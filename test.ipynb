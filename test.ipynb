{
 "cells": [
  {
   "cell_type": "code",
   "execution_count": 1,
   "metadata": {
    "colab": {
     "base_uri": "https://localhost:8080/",
     "height": 234
    },
    "colab_type": "code",
    "id": "epunV53yfi9e",
    "outputId": "6310e89f-b30f-4330-ea96-449eb7764e57"
   },
   "outputs": [
    {
     "name": "stdout",
     "output_type": "stream",
     "text": [
      "Looking in indexes: https://test.pypi.org/simple/\n",
      "Requirement already satisfied: lambdata-ekoly==0.1.9 in /home/cowley/.local/share/virtualenvs/lambdata-sJUfz32D/lib/python3.6/site-packages (0.1.9)\n",
      "Requirement already satisfied: numpy in /home/cowley/.local/share/virtualenvs/lambdata-sJUfz32D/lib/python3.6/site-packages (from lambdata-ekoly==0.1.9) (1.18.1)\n",
      "Requirement already satisfied: pandas in /home/cowley/.local/share/virtualenvs/lambdata-sJUfz32D/lib/python3.6/site-packages (from lambdata-ekoly==0.1.9) (0.25.3)\n",
      "Requirement already satisfied: python-dateutil>=2.6.1 in /home/cowley/.local/share/virtualenvs/lambdata-sJUfz32D/lib/python3.6/site-packages (from pandas->lambdata-ekoly==0.1.9) (2.8.1)\n",
      "Requirement already satisfied: pytz>=2017.2 in /home/cowley/.local/share/virtualenvs/lambdata-sJUfz32D/lib/python3.6/site-packages (from pandas->lambdata-ekoly==0.1.9) (2019.3)\n",
      "Requirement already satisfied: six>=1.5 in /home/cowley/.local/share/virtualenvs/lambdata-sJUfz32D/lib/python3.6/site-packages (from python-dateutil>=2.6.1->pandas->lambdata-ekoly==0.1.9) (1.13.0)\n"
     ]
    }
   ],
   "source": [
    "!pip install -i https://test.pypi.org/simple/ lambdata-ekoly==0.1.9"
   ]
  },
  {
   "cell_type": "code",
   "execution_count": 2,
   "metadata": {
    "colab": {},
    "colab_type": "code",
    "id": "cmVyZUtGfurN"
   },
   "outputs": [],
   "source": [
    "import lambdata_ekoly"
   ]
  },
  {
   "cell_type": "code",
   "execution_count": 3,
   "metadata": {
    "colab": {
     "base_uri": "https://localhost:8080/",
     "height": 201
    },
    "colab_type": "code",
    "id": "_-CUq_fX1Oqb",
    "outputId": "418c49fe-c1ca-4972-933b-bb61567564c7"
   },
   "outputs": [
    {
     "name": "stdout",
     "output_type": "stream",
     "text": [
      "--2020-01-14 17:10:41--  https://archive.ics.uci.edu/ml/machine-learning-databases/voting-records/house-votes-84.data\n",
      "Resolving archive.ics.uci.edu (archive.ics.uci.edu)... 128.195.10.252\n",
      "Connecting to archive.ics.uci.edu (archive.ics.uci.edu)|128.195.10.252|:443... connected.\n",
      "HTTP request sent, awaiting response... 200 OK\n",
      "Length: 18171 (18K) [application/x-httpd-php]\n",
      "Saving to: ‘house-votes-84.data.4’\n",
      "\n",
      "house-votes-84.data 100%[===================>]  17.75K  --.-KB/s    in 0.1s    \n",
      "\n",
      "2020-01-14 17:10:41 (184 KB/s) - ‘house-votes-84.data.4’ saved [18171/18171]\n",
      "\n"
     ]
    }
   ],
   "source": [
    "!wget https://archive.ics.uci.edu/ml/machine-learning-databases/voting-records/house-votes-84.data\n"
   ]
  },
  {
   "cell_type": "code",
   "execution_count": 4,
   "metadata": {
    "colab": {
     "base_uri": "https://localhost:8080/",
     "height": 213
    },
    "colab_type": "code",
    "id": "QqymrA7t-EeG",
    "outputId": "8aae0920-20bf-4ae8-f194-a9a1b5df9866"
   },
   "outputs": [
    {
     "data": {
      "text/html": [
       "<div>\n",
       "<style scoped>\n",
       "    .dataframe tbody tr th:only-of-type {\n",
       "        vertical-align: middle;\n",
       "    }\n",
       "\n",
       "    .dataframe tbody tr th {\n",
       "        vertical-align: top;\n",
       "    }\n",
       "\n",
       "    .dataframe thead th {\n",
       "        text-align: right;\n",
       "    }\n",
       "</style>\n",
       "<table border=\"1\" class=\"dataframe\">\n",
       "  <thead>\n",
       "    <tr style=\"text-align: right;\">\n",
       "      <th></th>\n",
       "      <th>party</th>\n",
       "      <th>handicapped-infants</th>\n",
       "      <th>water-project</th>\n",
       "      <th>budget</th>\n",
       "      <th>physician-fee-freeze</th>\n",
       "      <th>el-salvador-aid</th>\n",
       "      <th>religious-groups</th>\n",
       "      <th>anti-satellite-ban</th>\n",
       "      <th>aid-to-contras</th>\n",
       "      <th>mx-missile</th>\n",
       "      <th>immigration</th>\n",
       "      <th>synfuels</th>\n",
       "      <th>education</th>\n",
       "      <th>right-to-sue</th>\n",
       "      <th>crime</th>\n",
       "      <th>duty-free</th>\n",
       "      <th>south-africa</th>\n",
       "    </tr>\n",
       "  </thead>\n",
       "  <tbody>\n",
       "    <tr>\n",
       "      <td>0</td>\n",
       "      <td>republican</td>\n",
       "      <td>n</td>\n",
       "      <td>y</td>\n",
       "      <td>n</td>\n",
       "      <td>y</td>\n",
       "      <td>y</td>\n",
       "      <td>y</td>\n",
       "      <td>n</td>\n",
       "      <td>n</td>\n",
       "      <td>n</td>\n",
       "      <td>y</td>\n",
       "      <td>?</td>\n",
       "      <td>y</td>\n",
       "      <td>y</td>\n",
       "      <td>y</td>\n",
       "      <td>n</td>\n",
       "      <td>y</td>\n",
       "    </tr>\n",
       "    <tr>\n",
       "      <td>1</td>\n",
       "      <td>republican</td>\n",
       "      <td>n</td>\n",
       "      <td>y</td>\n",
       "      <td>n</td>\n",
       "      <td>y</td>\n",
       "      <td>y</td>\n",
       "      <td>y</td>\n",
       "      <td>n</td>\n",
       "      <td>n</td>\n",
       "      <td>n</td>\n",
       "      <td>n</td>\n",
       "      <td>n</td>\n",
       "      <td>y</td>\n",
       "      <td>y</td>\n",
       "      <td>y</td>\n",
       "      <td>n</td>\n",
       "      <td>?</td>\n",
       "    </tr>\n",
       "    <tr>\n",
       "      <td>2</td>\n",
       "      <td>democrat</td>\n",
       "      <td>?</td>\n",
       "      <td>y</td>\n",
       "      <td>y</td>\n",
       "      <td>?</td>\n",
       "      <td>y</td>\n",
       "      <td>y</td>\n",
       "      <td>n</td>\n",
       "      <td>n</td>\n",
       "      <td>n</td>\n",
       "      <td>n</td>\n",
       "      <td>y</td>\n",
       "      <td>n</td>\n",
       "      <td>y</td>\n",
       "      <td>y</td>\n",
       "      <td>n</td>\n",
       "      <td>n</td>\n",
       "    </tr>\n",
       "    <tr>\n",
       "      <td>3</td>\n",
       "      <td>democrat</td>\n",
       "      <td>n</td>\n",
       "      <td>y</td>\n",
       "      <td>y</td>\n",
       "      <td>n</td>\n",
       "      <td>?</td>\n",
       "      <td>y</td>\n",
       "      <td>n</td>\n",
       "      <td>n</td>\n",
       "      <td>n</td>\n",
       "      <td>n</td>\n",
       "      <td>y</td>\n",
       "      <td>n</td>\n",
       "      <td>y</td>\n",
       "      <td>n</td>\n",
       "      <td>n</td>\n",
       "      <td>y</td>\n",
       "    </tr>\n",
       "    <tr>\n",
       "      <td>4</td>\n",
       "      <td>democrat</td>\n",
       "      <td>y</td>\n",
       "      <td>y</td>\n",
       "      <td>y</td>\n",
       "      <td>n</td>\n",
       "      <td>y</td>\n",
       "      <td>y</td>\n",
       "      <td>n</td>\n",
       "      <td>n</td>\n",
       "      <td>n</td>\n",
       "      <td>n</td>\n",
       "      <td>y</td>\n",
       "      <td>?</td>\n",
       "      <td>y</td>\n",
       "      <td>y</td>\n",
       "      <td>y</td>\n",
       "      <td>y</td>\n",
       "    </tr>\n",
       "  </tbody>\n",
       "</table>\n",
       "</div>"
      ],
      "text/plain": [
       "        party handicapped-infants water-project budget physician-fee-freeze  \\\n",
       "0  republican                   n             y      n                    y   \n",
       "1  republican                   n             y      n                    y   \n",
       "2    democrat                   ?             y      y                    ?   \n",
       "3    democrat                   n             y      y                    n   \n",
       "4    democrat                   y             y      y                    n   \n",
       "\n",
       "  el-salvador-aid religious-groups anti-satellite-ban aid-to-contras  \\\n",
       "0               y                y                  n              n   \n",
       "1               y                y                  n              n   \n",
       "2               y                y                  n              n   \n",
       "3               ?                y                  n              n   \n",
       "4               y                y                  n              n   \n",
       "\n",
       "  mx-missile immigration synfuels education right-to-sue crime duty-free  \\\n",
       "0          n           y        ?         y            y     y         n   \n",
       "1          n           n        n         y            y     y         n   \n",
       "2          n           n        y         n            y     y         n   \n",
       "3          n           n        y         n            y     n         n   \n",
       "4          n           n        y         ?            y     y         y   \n",
       "\n",
       "  south-africa  \n",
       "0            y  \n",
       "1            ?  \n",
       "2            n  \n",
       "3            y  \n",
       "4            y  "
      ]
     },
     "execution_count": 4,
     "metadata": {},
     "output_type": "execute_result"
    }
   ],
   "source": [
    "import pandas as pd\n",
    "\n",
    "column_headers = ['party','handicapped-infants','water-project',\n",
    "                          'budget','physician-fee-freeze', 'el-salvador-aid',\n",
    "                          'religious-groups','anti-satellite-ban',\n",
    "                          'aid-to-contras','mx-missile','immigration',\n",
    "                          'synfuels', 'education', 'right-to-sue','crime','duty-free',\n",
    "                          'south-africa']\n",
    "df = pd.read_csv(\"house-votes-84.data\", header=None, names=column_headers)\n",
    "\n",
    "df.head()"
   ]
  },
  {
   "cell_type": "code",
   "execution_count": 5,
   "metadata": {
    "colab": {},
    "colab_type": "code",
    "id": "sKMfiatlL_ng"
   },
   "outputs": [],
   "source": [
    "dems = df[df[\"party\"] == \"democrat\"]\n",
    "reps = df[df[\"party\"] == \"republican\"]\n",
    "\n"
   ]
  },
  {
   "cell_type": "code",
   "execution_count": 6,
   "metadata": {
    "colab": {},
    "colab_type": "code",
    "id": "3R-S7j1aMzeu"
   },
   "outputs": [],
   "source": [
    "from lambdata_ekoly.df_utils import train_validate_test_split, confidenceInterval, bayesConfidenceInterval"
   ]
  },
  {
   "cell_type": "code",
   "execution_count": 7,
   "metadata": {
    "colab": {},
    "colab_type": "code",
    "id": "kbmZEosmNFNj"
   },
   "outputs": [],
   "source": [
    "train, val, test = train_validate_test_split(df)"
   ]
  },
  {
   "cell_type": "code",
   "execution_count": 8,
   "metadata": {
    "colab": {
     "base_uri": "https://localhost:8080/",
     "height": 33
    },
    "colab_type": "code",
    "id": "cf0kTw40NIMb",
    "outputId": "f790fcba-b333-4bb9-94f6-6b9fb71c1074"
   },
   "outputs": [
    {
     "data": {
      "text/plain": [
       "((261, 17), (87, 17), (87, 17))"
      ]
     },
     "execution_count": 8,
     "metadata": {},
     "output_type": "execute_result"
    }
   ],
   "source": [
    "train.shape, val.shape, test.shape"
   ]
  },
  {
   "cell_type": "code",
   "execution_count": 9,
   "metadata": {
    "colab": {},
    "colab_type": "code",
    "id": "-LfeJ_B7RlzU"
   },
   "outputs": [],
   "source": [
    "df = df.replace({\"n\": 0, \"y\": 1})"
   ]
  },
  {
   "cell_type": "code",
   "execution_count": 10,
   "metadata": {
    "colab": {},
    "colab_type": "code",
    "id": "kx-7bt8mR_Un"
   },
   "outputs": [],
   "source": [
    "dems = dems.drop(columns=[\"party\"])\n",
    "dems = dems.replace({\"n\": -1, \"?\": 0, \"y\": 1})"
   ]
  },
  {
   "cell_type": "code",
   "execution_count": 11,
   "metadata": {
    "colab": {
     "base_uri": "https://localhost:8080/",
     "height": 33
    },
    "colab_type": "code",
    "id": "5EkTxLdWN_Do",
    "outputId": "05217007-966e-4e0b-fe23-a111ea0205ac"
   },
   "outputs": [
    {
     "data": {
      "text/plain": [
       "(0.680068480081707, 0.7565543071161048, 0.8330401341505027)"
      ]
     },
     "execution_count": 11,
     "metadata": {},
     "output_type": "execute_result"
    }
   ],
   "source": [
    "confidenceInterval(dems[\"budget\"])"
   ]
  },
  {
   "cell_type": "code",
   "execution_count": 12,
   "metadata": {
    "colab": {},
    "colab_type": "code",
    "id": "mGiLHULiOHEb"
   },
   "outputs": [
    {
     "data": {
      "text/plain": [
       "'\\n        Returns the confidence interval and mean for the data within the given\\n        {confidence}.\\n\\n        @type data: DataFrame\\n        @type confidence: float\\n\\n        @returns: tuple of 3 floats representing the left confidence interval,\\n            the median, and the right confidence interval for the data.\\n    '"
      ]
     },
     "execution_count": 12,
     "metadata": {},
     "output_type": "execute_result"
    }
   ],
   "source": [
    "confidenceInterval.__doc__"
   ]
  },
  {
   "cell_type": "code",
   "execution_count": 13,
   "metadata": {},
   "outputs": [
    {
     "name": "stdout",
     "output_type": "stream",
     "text": [
      "Help on function confidenceInterval in module lambdata_ekoly.df_utils:\n",
      "\n",
      "confidenceInterval(data, confidence=0.95)\n",
      "    Returns the confidence interval and mean for the data within the given\n",
      "    {confidence}.\n",
      "    \n",
      "    @type data: DataFrame\n",
      "    @type confidence: float\n",
      "    \n",
      "    @returns: tuple of 3 floats representing the left confidence interval,\n",
      "        the median, and the right confidence interval for the data.\n",
      "\n"
     ]
    }
   ],
   "source": [
    "help(confidenceInterval)"
   ]
  },
  {
   "cell_type": "code",
   "execution_count": 14,
   "metadata": {},
   "outputs": [],
   "source": [
    "from lambdata_ekoly.df_utils import ColumnCompare\n",
    "\n",
    "reps = reps.drop(columns=[\"party\"])\n",
    "reps = reps.replace({\"n\": -1, \"?\": 0, \"y\": 1})"
   ]
  },
  {
   "cell_type": "code",
   "execution_count": null,
   "metadata": {},
   "outputs": [],
   "source": []
  },
  {
   "cell_type": "code",
   "execution_count": 15,
   "metadata": {},
   "outputs": [],
   "source": [
    "cc = ColumnCompare(dems, reps)"
   ]
  },
  {
   "cell_type": "code",
   "execution_count": 16,
   "metadata": {},
   "outputs": [
    {
     "data": {
      "text/plain": [
       "Ttest_indResult(statistic=22.8216930438848, pvalue=2.8721153143958906e-76)"
      ]
     },
     "execution_count": 16,
     "metadata": {},
     "output_type": "execute_result"
    }
   ],
   "source": [
    "cc.test(\"budget\")"
   ]
  },
  {
   "cell_type": "code",
   "execution_count": 17,
   "metadata": {},
   "outputs": [
    {
     "data": {
      "text/plain": [
       "Ttest_indResult(statistic=-0.08764559884421932, pvalue=0.9301988772663677)"
      ]
     },
     "execution_count": 17,
     "metadata": {},
     "output_type": "execute_result"
    }
   ],
   "source": [
    "cc.test(\"water-project\")"
   ]
  },
  {
   "cell_type": "code",
   "execution_count": 18,
   "metadata": {},
   "outputs": [],
   "source": [
    "pd.options.display.max_rows = 999"
   ]
  },
  {
   "cell_type": "code",
   "execution_count": 1,
   "metadata": {},
   "outputs": [],
   "source": [
    "import pandas as pd\n",
    "from bs4 import BeautifulSoup\n",
    "import requests\n",
    "\n",
    "##### Your Code Here #####\n",
    "df = pd.read_csv(\"https://github.com/ekoly/DS-Unit-4-Sprint-1-NLP/raw/master/module2-vector-representations/data/job_listings.csv\")\n",
    "df.head()\n",
    "\n",
    "df[\"description\"] = df[\"description\"].apply(lambda s: \" \".join(BeautifulSoup(s, \"html.parser\").stripped_strings).replace(\"\\\\n\", \" \"))\n",
    "df.head()\n",
    "\n",
    "from FiveOneOne import nlp_utils"
   ]
  },
  {
   "cell_type": "code",
   "execution_count": 2,
   "metadata": {},
   "outputs": [
    {
     "data": {
      "text/plain": [
       "0      [b, job, requirements, conceptual, understandi...\n",
       "1      [b, job, description, data, scientist, 1, help...\n",
       "2      [b, data, scientist, working, consulting, busi...\n",
       "3      [b, 4969, 6756, month, contract, general, supe...\n",
       "4      [b, location, usa, xe2x80x93, multiple, locati...\n",
       "5      [b, create, business, intelligence, analytical...\n",
       "6      [b, spotify, premium, swells, 96m, subscribers...\n",
       "7      [beverytown, gun, safety, nations, largest, gu...\n",
       "8      [b, ms, quantitative, discipline, statistics, ...\n",
       "9      [b, slack, hiring, experienced, data, scientis...\n",
       "10     [b, blackthorn, therapeutics, computational, s...\n",
       "11     [b, parttime, opportunity, grubhub, wexe2x80x9...\n",
       "12     [bnfosysxe2x80x93, data, analytics, xe2x80x93,...\n",
       "13     [b, spotify, premium, swells, 96m, subscribers...\n",
       "14     [b, experience, guiding, rd, strategy, organiz...\n",
       "15     [b, atlantic, seeking, data, scientist, help, ...\n",
       "16     [b, challenge, eventbrite, big, bustling, mark...\n",
       "17     [b, contract, looking, hire, data, scientist, ...\n",
       "18     [beverytown, gun, safety, nations, largest, gu...\n",
       "19     [b, 70000, 100000, year, title, data, analystj...\n",
       "20     [b, 45000, year, working, direction, associate...\n",
       "21     [b, challenge, excited, prospect, unlocking, s...\n",
       "22     [b, seeking, data, scientist, join, product, i...\n",
       "23     [b, motiion, technology, data, company, food, ...\n",
       "24     [b, scientist, responsible, scientific, integr...\n",
       "25     [bas, data, scientist, ads, measurement, partn...\n",
       "26     [b, summary, posted, mar, 6, 2019, weekly, hou...\n",
       "27     [b, slack, looking, experienced, data, scienti...\n",
       "28     [bnfosysxe2x80x93, data, analytics, xe2x80x93,...\n",
       "29     [b, parttime, internship, summary, sierra, nev...\n",
       "                             ...                        \n",
       "396    [babout, lark, worlds, largest, ai, healthcare...\n",
       "397    [b, zenreach, solves, major, problem, brickand...\n",
       "398    [b, position, description, walmart, voice, com...\n",
       "399    [bby, trade, technology, company, ask, works, ...\n",
       "400    [b, purpose, overall, relevance, organization,...\n",
       "401    [b, dscout, dscout, core, people, nerds, empow...\n",
       "402    [b, junior, data, scientist, big, data, entryl...\n",
       "403    [babout, interested, working, humancentered, t...\n",
       "404    [b, air, products, inc, fortune, 500, manufact...\n",
       "405    [b, data, scientist, want, opportunity, levera...\n",
       "406    [b, job, description, data, scientist, interac...\n",
       "407    [b, data, scientist, mines, analyzes, complex,...\n",
       "408    [b, finlocker, leading, financial, data, analy...\n",
       "409    [b, annual, sales, 15, billion, ecolab, ecl, g...\n",
       "410    [b, job, description, enterprise, data, soluti...\n",
       "411    [b, description, chicago, il, il150sw, 150, s,...\n",
       "412    [b, nike, supply, chain, experts, ensure, year...\n",
       "413    [b, principal, data, scientist, responsible, l...\n",
       "414    [b, looking, senior, data, scientist, marketin...\n",
       "415    [b, temporary, internship, marketing, data, sc...\n",
       "416    [b, los, gatos, california, science, analytics...\n",
       "417    [b, role, logic2020, looking, secure, data, an...\n",
       "418    [b, contract, role, largely, operational, supp...\n",
       "419    [b, bachelorxe2x80x99s, masterxe2x80x99s, degr...\n",
       "420    [b, uber, ignite, opportunity, setting, world,...\n",
       "421    [b, us, want, fantastic, fun, startup, thatxe2...\n",
       "422    [b, internship, uber, ignite, opportunity, set...\n",
       "423    [b, 200000, 350000, year, million, people, yea...\n",
       "424    [b, senior, data, scientist, job, description,...\n",
       "425    [b, cerner, intelligence, new, innovative, org...\n",
       "Name: description, Length: 426, dtype: object"
      ]
     },
     "execution_count": 2,
     "metadata": {},
     "output_type": "execute_result"
    }
   ],
   "source": [
    "df[\"description\"].apply(nlp_utils.simple_tokenize)"
   ]
  },
  {
   "cell_type": "code",
   "execution_count": 3,
   "metadata": {},
   "outputs": [],
   "source": [
    "vect = nlp_utils.Scrubber()"
   ]
  },
  {
   "cell_type": "code",
   "execution_count": 5,
   "metadata": {},
   "outputs": [
    {
     "data": {
      "text/plain": [
       "[['b',\n",
       "  'job',\n",
       "  'requirements',\n",
       "  'understanding',\n",
       "  'like',\n",
       "  'linear',\n",
       "  'regression',\n",
       "  'neural',\n",
       "  'random',\n",
       "  'decision',\n",
       "  'trees',\n",
       "  'handson',\n",
       "  '2',\n",
       "  'expert',\n",
       "  'level',\n",
       "  'coding',\n",
       "  'write',\n",
       "  'functions',\n",
       "  'clean',\n",
       "  'efficient',\n",
       "  'role',\n",
       "  'exposure',\n",
       "  'packages',\n",
       "  'like',\n",
       "  'numpy',\n",
       "  'pandas',\n",
       "  'etc',\n",
       "  'r',\n",
       "  'communicate',\n",
       "  'model',\n",
       "  'findings',\n",
       "  'technical',\n",
       "  'nontechnical',\n",
       "  'hands',\n",
       "  'similar',\n",
       "  'programming',\n",
       "  'language',\n",
       "  'masters',\n",
       "  'degree',\n",
       "  'specific',\n",
       "  'field',\n",
       "  'apply'],\n",
       " ['b',\n",
       "  'job',\n",
       "  'description',\n",
       "  '1',\n",
       "  'build',\n",
       "  'pipelines',\n",
       "  'clients',\n",
       "  'healthcare',\n",
       "  'journey',\n",
       "  'improving',\n",
       "  'generation',\n",
       "  'applications',\n",
       "  'user',\n",
       "  'experiences',\n",
       "  'day',\n",
       "  'small',\n",
       "  'agile',\n",
       "  'design',\n",
       "  'develop',\n",
       "  'mobile',\n",
       "  'applications',\n",
       "  'group',\n",
       "  'members',\n",
       "  'contribute',\n",
       "  'best',\n",
       "  'practices',\n",
       "  'guide',\n",
       "  'future',\n",
       "  'applications',\n",
       "  'effectively',\n",
       "  'collaborative',\n",
       "  'member',\n",
       "  'effectively',\n",
       "  'individual',\n",
       "  'responsible',\n",
       "  'deliverables',\n",
       "  'time',\n",
       "  'high',\n",
       "  'quality',\n",
       "  'drive',\n",
       "  'implement',\n",
       "  'features',\n",
       "  'mobile',\n",
       "  'applications',\n",
       "  'perform',\n",
       "  'testing',\n",
       "  'writing',\n",
       "  'test',\n",
       "  'cases',\n",
       "  'areas',\n",
       "  'identify',\n",
       "  'increase',\n",
       "  'code',\n",
       "  'quality',\n",
       "  'efficiency',\n",
       "  'best',\n",
       "  'practices',\n",
       "  'develop',\n",
       "  'processes',\n",
       "  'coding',\n",
       "  'designs',\n",
       "  'necessary',\n",
       "  'maintain',\n",
       "  'great',\n",
       "  'quality',\n",
       "  'effectively',\n",
       "  'design',\n",
       "  'creative',\n",
       "  'technical',\n",
       "  'analytical',\n",
       "  'communicate',\n",
       "  'effectively',\n",
       "  'technical',\n",
       "  'environments',\n",
       "  'qualifications',\n",
       "  'looking',\n",
       "  'masterxe2x80x99s',\n",
       "  'degree',\n",
       "  'computer',\n",
       "  'math',\n",
       "  'related',\n",
       "  'field',\n",
       "  'computer',\n",
       "  'algorithm',\n",
       "  'design',\n",
       "  'problem',\n",
       "  'solving',\n",
       "  'complexity',\n",
       "  '1',\n",
       "  'year',\n",
       "  'realworld',\n",
       "  'developing',\n",
       "  'deploying',\n",
       "  'pipelines',\n",
       "  'understanding',\n",
       "  'key',\n",
       "  'concepts',\n",
       "  'accuracy',\n",
       "  'open',\n",
       "  'source',\n",
       "  'libraries',\n",
       "  'sql',\n",
       "  'proficient',\n",
       "  'writing',\n",
       "  'tests',\n",
       "  'familiar',\n",
       "  'automation',\n",
       "  'frameworks',\n",
       "  'cloud',\n",
       "  'infrastructure',\n",
       "  'aws',\n",
       "  'azure',\n",
       "  'plus',\n",
       "  'distributed',\n",
       "  'pipelines',\n",
       "  'spark',\n",
       "  'plus',\n",
       "  'strong',\n",
       "  'written',\n",
       "  'oral',\n",
       "  'communication',\n",
       "  'desire',\n",
       "  'agile',\n",
       "  'collaborative',\n",
       "  'innovative',\n",
       "  'flexible',\n",
       "  'environment',\n",
       "  'handson',\n",
       "  'motivated',\n",
       "  'selfstarter',\n",
       "  'solid',\n",
       "  'level',\n",
       "  'quickly',\n",
       "  'complex',\n",
       "  'challenges',\n",
       "  'technical',\n",
       "  'management',\n",
       "  'teams',\n",
       "  'service',\n",
       "  'person',\n",
       "  'customer',\n",
       "  'fast',\n",
       "  'spirit',\n",
       "  'fastpaced',\n",
       "  'environment',\n",
       "  'continuous',\n",
       "  'improvement',\n",
       "  'quality',\n",
       "  'high',\n",
       "  'excited',\n",
       "  'challenges',\n",
       "  'growth',\n",
       "  'additional',\n",
       "  'information',\n",
       "  'important',\n",
       "  'creating',\n",
       "  'company',\n",
       "  'culture',\n",
       "  'making',\n",
       "  'meaningful',\n",
       "  'impact',\n",
       "  'lives',\n",
       "  'employees',\n",
       "  'members',\n",
       "  'customers',\n",
       "  'success',\n",
       "  'find',\n",
       "  'purpose',\n",
       "  'making',\n",
       "  'difference',\n",
       "  'lives',\n",
       "  'do',\n",
       "  'itxe2x80x99s',\n",
       "  'hard',\n",
       "  'right',\n",
       "  'right',\n",
       "  'strong',\n",
       "  'together',\n",
       "  'wexe2x80x99re',\n",
       "  'colleagues',\n",
       "  'different',\n",
       "  'backgrounds',\n",
       "  'experiences',\n",
       "  'enable',\n",
       "  'solve',\n",
       "  'problems',\n",
       "  'creative',\n",
       "  'ways',\n",
       "  'fun',\n",
       "  'way',\n",
       "  'results',\n",
       "  'us',\n",
       "  'hard',\n",
       "  'decisions',\n",
       "  'needed',\n",
       "  'wexe2x80x99re',\n",
       "  'healthcare',\n",
       "  'were',\n",
       "  'curious',\n",
       "  'act',\n",
       "  'big',\n",
       "  'change',\n",
       "  'world',\n",
       "  'person',\n",
       "  'time',\n",
       "  'information',\n",
       "  'eeo'],\n",
       " ['b',\n",
       "  'consulting',\n",
       "  'responsible',\n",
       "  'analyzing',\n",
       "  'large',\n",
       "  'complex',\n",
       "  'datasets',\n",
       "  'identify',\n",
       "  'meaningful',\n",
       "  'patterns',\n",
       "  'lead',\n",
       "  'actionable',\n",
       "  'recommendations',\n",
       "  'performing',\n",
       "  'testing',\n",
       "  'validation',\n",
       "  'support',\n",
       "  'aspects',\n",
       "  'build',\n",
       "  'predictive',\n",
       "  'leverage',\n",
       "  'algorithms',\n",
       "  'position',\n",
       "  'math',\n",
       "  'analytical',\n",
       "  'research',\n",
       "  'advanced',\n",
       "  'communication',\n",
       "  'presentation',\n",
       "  'primary',\n",
       "  'job',\n",
       "  'location',\n",
       "  'available',\n",
       "  'qualifications',\n",
       "  'bachelors',\n",
       "  'ms',\n",
       "  'phd',\n",
       "  'relevant',\n",
       "  'field',\n",
       "  'computer',\n",
       "  'statistics',\n",
       "  'physics',\n",
       "  'applied',\n",
       "  'math',\n",
       "  'r',\n",
       "  'andor',\n",
       "  'preferred']]"
      ]
     },
     "execution_count": 5,
     "metadata": {},
     "output_type": "execute_result"
    }
   ],
   "source": [
    "vect.fit_transform(list(df[\"description\"]))[:3]"
   ]
  },
  {
   "cell_type": "code",
   "execution_count": 11,
   "metadata": {},
   "outputs": [],
   "source": [
    "vect = nlp_utils.Scrubber(no_below=50, no_above=100)"
   ]
  },
  {
   "cell_type": "code",
   "execution_count": 12,
   "metadata": {},
   "outputs": [
    {
     "data": {
      "text/plain": [
       "[['neural',\n",
       "  'handson',\n",
       "  'expert',\n",
       "  'functions',\n",
       "  'findings',\n",
       "  'nontechnical',\n",
       "  'similar',\n",
       "  'masters',\n",
       "  'specific'],\n",
       " ['description',\n",
       "  '1',\n",
       "  'pipelines',\n",
       "  'healthcare',\n",
       "  'improving',\n",
       "  'generation',\n",
       "  'user',\n",
       "  'experiences',\n",
       "  'day',\n",
       "  'small',\n",
       "  'group',\n",
       "  'contribute',\n",
       "  'practices',\n",
       "  'collaborative',\n",
       "  'individual',\n",
       "  'writing',\n",
       "  'test',\n",
       "  'code',\n",
       "  'practices',\n",
       "  'maintain',\n",
       "  'great',\n",
       "  'creative',\n",
       "  'masterxe2x80x99s',\n",
       "  'math',\n",
       "  '1',\n",
       "  'year',\n",
       "  'pipelines',\n",
       "  'open',\n",
       "  'writing',\n",
       "  'frameworks',\n",
       "  'infrastructure',\n",
       "  'aws',\n",
       "  'distributed',\n",
       "  'pipelines',\n",
       "  'collaborative',\n",
       "  'flexible',\n",
       "  'handson',\n",
       "  'solid',\n",
       "  'quickly',\n",
       "  'service',\n",
       "  'additional',\n",
       "  'creating',\n",
       "  'culture',\n",
       "  'meaningful',\n",
       "  'success',\n",
       "  'find',\n",
       "  'right',\n",
       "  'right',\n",
       "  'together',\n",
       "  'different',\n",
       "  'experiences',\n",
       "  'enable',\n",
       "  'creative',\n",
       "  'ways',\n",
       "  'needed',\n",
       "  'healthcare',\n",
       "  'change']]"
      ]
     },
     "execution_count": 12,
     "metadata": {},
     "output_type": "execute_result"
    }
   ],
   "source": [
    "vect.fit_transform(list(df[\"description\"]))[:2]"
   ]
  },
  {
   "cell_type": "code",
   "execution_count": null,
   "metadata": {},
   "outputs": [],
   "source": []
  }
 ],
 "metadata": {
  "colab": {
   "name": "Untitled11.ipynb",
   "provenance": []
  },
  "kernelspec": {
   "display_name": "Python 3",
   "language": "python",
   "name": "python3"
  },
  "language_info": {
   "codemirror_mode": {
    "name": "ipython",
    "version": 3
   },
   "file_extension": ".py",
   "mimetype": "text/x-python",
   "name": "python",
   "nbconvert_exporter": "python",
   "pygments_lexer": "ipython3",
   "version": "3.6.9"
  }
 },
 "nbformat": 4,
 "nbformat_minor": 4
}
